{
  "nbformat": 4,
  "nbformat_minor": 0,
  "metadata": {
    "colab": {
      "provenance": [],
      "authorship_tag": "ABX9TyOEyyevo+WTBwuzEqdVftKJ",
      "include_colab_link": true
    },
    "kernelspec": {
      "name": "python3",
      "display_name": "Python 3"
    },
    "language_info": {
      "name": "python"
    }
  },
  "cells": [
    {
      "cell_type": "markdown",
      "metadata": {
        "id": "view-in-github",
        "colab_type": "text"
      },
      "source": [
        "<a href=\"https://colab.research.google.com/github/TAUforPython/stohasticsignal/blob/main/Markov_process_model.ipynb\" target=\"_parent\"><img src=\"https://colab.research.google.com/assets/colab-badge.svg\" alt=\"Open In Colab\"/></a>"
      ]
    },
    {
      "cell_type": "code",
      "execution_count": 1,
      "metadata": {
        "id": "UWKRLKt01sfT"
      },
      "outputs": [],
      "source": [
        "import numpy as np"
      ]
    },
    {
      "cell_type": "code",
      "source": [
        "def equilibrium_distribution(p_transition):\n",
        "    n_states = p_transition.shape[0]\n",
        "    A = np.append(\n",
        "        arr=p_transition.T - np.eye(n_states),\n",
        "        values=np.ones(n_states).reshape(1, -1),\n",
        "        axis=0\n",
        "    )\n",
        "    b = np.transpose(np.array([0] * n_states + [1]))\n",
        "    p_eq = np.linalg.solve(\n",
        "        a=np.transpose(A).dot(A),\n",
        "        b=np.transpose(A).dot(b)\n",
        "    )\n",
        "    return p_eq"
      ],
      "metadata": {
        "id": "I-yC3JIO2CdQ"
      },
      "execution_count": null,
      "outputs": []
    }
  ]
}